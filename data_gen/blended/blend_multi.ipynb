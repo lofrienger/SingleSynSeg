{
 "cells": [
  {
   "cell_type": "code",
   "execution_count": 1,
   "metadata": {},
   "outputs": [],
   "source": [
    "import os, sys\n",
    "import numpy as np\n",
    "from PIL import Image\n",
    "from matplotlib import pyplot as plt\n",
    "from tqdm import tqdm"
   ]
  },
  {
   "cell_type": "code",
   "execution_count": 2,
   "metadata": {},
   "outputs": [],
   "source": [
    "def image_paste(image1, image2):\n",
    "    '''paste image2 (PIL) onto image1 (PIL) (images have the same shape)'''\n",
    "    image1.paste(image2, image2)\n",
    "    return image1\n",
    "def images_paste(images_list):\n",
    "    '''paste list of images (PIL)'''\n",
    "    num_images = len(images_list)\n",
    "    assert num_images != 0\n",
    "    if num_images == 1:\n",
    "        return images_list[0]\n",
    "    else:\n",
    "        for i in range(num_images,1,-1):\n",
    "            images_list[i-2].paste(images_list[i-1], images_list[i-1])\n",
    "        return images_list[0]\n",
    "\n",
    "def bin_mask_paste(mask1, mask2):\n",
    "    '''combine 2 binary masks (PIL mode 'L') together'''\n",
    "    mask1_np, mask2_np = np.array(mask1), np.array(mask2)\n",
    "    mask_np = np.logical_or(mask1_np, mask2_np)\n",
    "    return Image.fromarray(mask_np.astype(np.uint8))\n",
    "def bin_masks_paste(masks_list):\n",
    "    '''combine a list of binary masks (PIL mode 'L')'''\n",
    "    num_masks = len(masks_list)\n",
    "    assert num_masks != 0\n",
    "    if num_masks == 1:\n",
    "        return masks_list[0]\n",
    "    else:\n",
    "        mask = np.zeros(np.array(masks_list[0]).shape, dtype=np.uint8)\n",
    "        for i in range(num_masks):\n",
    "            mask = bin_mask_paste(mask, masks_list[i])\n",
    "        return mask"
   ]
  },
  {
   "cell_type": "code",
   "execution_count": 3,
   "metadata": {},
   "outputs": [
    {
     "data": {
      "text/plain": [
       "['3-Large_Needle_Driver',\n",
       " '5-Ultrasound_Probe',\n",
       " '6-Suction_Instrument',\n",
       " '1-Bipolar_Forceps',\n",
       " '4-Monopolar_Curved_Scissors',\n",
       " '7-Clip_Applier',\n",
       " '2-Prograsp_Forceps']"
      ]
     },
     "execution_count": 3,
     "metadata": {},
     "output_type": "execute_result"
    }
   ],
   "source": [
    "content_list = os.listdir('/mnt/data-ssd/wa/overlay/FgBgAug/fg/EndoVis18')\n",
    "tool_list = []\n",
    "for i in content_list:\n",
    "    if os.path.isdir('/mnt/data-ssd/wa/overlay/FgBgAug/fg/EndoVis18/'+i):\n",
    "        tool_list.append(i)\n",
    "\n",
    "aug_images_dict = {}\n",
    "# sys.exit(0)\n",
    "for tool in tool_list:\n",
    "    file_path = os.path.join('/mnt/data-ssd/wa/overlay/FgBgAug/fg/EndoVis18', tool)\n",
    "    image_name_list = os.listdir(os.path.join(file_path, 'image_2_50'))\n",
    "    aug_images_dict[tool] = image_name_list\n",
    "tool_list\n",
    "# aug_images_dict"
   ]
  },
  {
   "cell_type": "code",
   "execution_count": 7,
   "metadata": {},
   "outputs": [
    {
     "name": "stderr",
     "output_type": "stream",
     "text": [
      "3: 100%|████████████████████████████████████████████████████████████| 40/40 [08:48<00:00, 13.20s/it]\n",
      "5: 100%|████████████████████████████████████████████████████████████| 40/40 [08:36<00:00, 12.92s/it]\n",
      "6: 100%|████████████████████████████████████████████████████████████| 40/40 [08:52<00:00, 13.31s/it]\n",
      "1: 100%|████████████████████████████████████████████████████████████| 80/80 [14:41<00:00, 11.02s/it]\n",
      "4: 100%|████████████████████████████████████████████████████████████| 40/40 [07:18<00:00, 10.97s/it]\n",
      "7: 100%|████████████████████████████████████████████████████████████| 40/40 [07:16<00:00, 10.91s/it]\n",
      "2: 100%|████████████████████████████████████████████████████████████| 40/40 [07:17<00:00, 10.94s/it]"
     ]
    },
    {
     "name": "stdout",
     "output_type": "stream",
     "text": [
      "Total number: 6400\n"
     ]
    },
    {
     "name": "stderr",
     "output_type": "stream",
     "text": [
      "\n"
     ]
    }
   ],
   "source": [
    "# multiple instruments\n",
    "blended_root = '/mnt/data-ssd/wa/overlay/FgBgAug/blended_2base50_multi_instru_bgold/'\n",
    "fg_root_path = '/mnt/data-ssd/wa/overlay/FgBgAug/fg/EndoVis18/'\n",
    "# bg_name_list = os.listdir('/mnt/data-ssd/wa/overlay/FgBgAug/bg/aug')\n",
    "num = 0\n",
    "seed = 0\n",
    "for tool in tool_list:\n",
    "    file_path = os.path.join(fg_root_path, tool)\n",
    "    image_name_list = os.listdir(os.path.join(file_path, 'image_2_50'))\n",
    "    # sample 20 from 50 (40%)\n",
    "    np.random.seed(seed)\n",
    "    seed+=1\n",
    "    np.random.shuffle(image_name_list)\n",
    "    image_name_list = image_name_list[:int(len(image_name_list)*0.4)]\n",
    "    for i in tqdm(range(len(image_name_list)), ncols=100, desc=tool[0]):\n",
    "        fg_i = Image.open(os.path.join(file_path, 'image_2_50', image_name_list[i])).convert('RGBA')\n",
    "        mask_i = Image.open(os.path.join(file_path, 'mask_2_50', image_name_list[i]))\n",
    "        fg_list, mask_list = [], []\n",
    "        file_prefix = tool[0]\n",
    "        fg_list.append(fg_i)\n",
    "        mask_list.append(mask_i)\n",
    "        np.random.seed(seed)\n",
    "        seed+=1\n",
    "        rand_p = np.random.uniform()\n",
    "        # rand_p = 0.9\n",
    "        if rand_p < 0.8: # 1 instru\n",
    "            num_instru = 1\n",
    "        # elif rand_p > 0.7: # 3 instru\n",
    "        #     num_instru = 3\n",
    "        else: # 2 instru\n",
    "            num_instru = 2\n",
    "        if num_instru > 1:\n",
    "            cand_tool_list = tool_list[:]\n",
    "            cand_tool_list.remove(tool)\n",
    "            # print(cand_tool_list)\n",
    "            cand_tools = np.random.choice(cand_tool_list,num_instru-1,replace=False)\n",
    "            for i in range(num_instru-1):\n",
    "                cand_image_name = np.random.choice(aug_images_dict[cand_tools[i]])\n",
    "                cand_image = Image.open(os.path.join(fg_root_path, cand_tools[i], 'image_2_50', cand_image_name)).convert('RGBA')\n",
    "                cand_mask = Image.open(os.path.join(fg_root_path, cand_tools[i], 'mask_2_50', cand_image_name))\n",
    "                fg_list.append(cand_image)\n",
    "                mask_list.append(cand_mask)\n",
    "                file_prefix+=cand_tools[i][0]\n",
    "        assert len(fg_list) == num_instru\n",
    "        assert len(mask_list) == num_instru\n",
    "        fg, mask = images_paste(fg_list), bin_masks_paste(mask_list) \n",
    "        # sample 20 from 50 (40%)\n",
    "        np.random.seed(seed)\n",
    "        seed+=1\n",
    "        bg_name_list = os.listdir('/mnt/data-ssd/wa/overlay/FgBgAug/bg/aug')\n",
    "        np.random.shuffle(bg_name_list)\n",
    "        bg_name_list = bg_name_list[:20]\n",
    "        for bg_name in bg_name_list:\n",
    "            bg = Image.open(os.path.join('/mnt/data-ssd/wa/overlay/FgBgAug/bg/aug', bg_name)).convert('RGBA')\n",
    "            bg.paste(fg,fg)\n",
    "            # save mask and blended\n",
    "            # convert to binary mask\n",
    "            mask_np = np.array(mask)\n",
    "            mask_np[mask_np!=0]=255\n",
    "            mask = Image.fromarray(mask_np)\n",
    "\n",
    "            mask.save(os.path.join(blended_root, 'annotations', 'binary', file_prefix+'-'+image_name_list[i][:-4]+'-'+bg_name))\n",
    "            bg.save(os.path.join(blended_root, 'images', file_prefix+'-'+image_name_list[i][:-4]+'-'+bg_name))\n",
    "            num+=1\n",
    "            # sys.exit(0)\n",
    "print('Total number:',num)"
   ]
  }
 ],
 "metadata": {
  "interpreter": {
   "hash": "c3dbaf41d356ed54580229d47340678ea04e7622ac7eb08d68d9f9ddddf5872a"
  },
  "kernelspec": {
   "display_name": "Python 3.8.12 ('wa_overlay')",
   "language": "python",
   "name": "python3"
  },
  "language_info": {
   "codemirror_mode": {
    "name": "ipython",
    "version": 3
   },
   "file_extension": ".py",
   "mimetype": "text/x-python",
   "name": "python",
   "nbconvert_exporter": "python",
   "pygments_lexer": "ipython3",
   "version": "3.8.12"
  },
  "orig_nbformat": 4
 },
 "nbformat": 4,
 "nbformat_minor": 2
}
